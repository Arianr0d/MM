{
 "cells": [
  {
   "cell_type": "markdown",
   "id": "9a7a951c",
   "metadata": {},
   "source": [
    "## ИДЗ1"
   ]
  },
  {
   "cell_type": "markdown",
   "id": "05f2c41c",
   "metadata": {},
   "source": [
    "### Часть 1. Задание: \n",
    "Модель задана дифференциальным уравнением, которое имеет вид х'(t) = k(t)*f(t). Функция f известна, функцию k нужно найти. Предполагается, что k имеет вид k(t) = а*е^(b*t) или k(t) = a*b^t.\n",
    "\n",
    "Функция f(t) имеет вид: f(t) = p * t^m + q * t^n + r, параметры для 30 вариантов приведены в документе EXCEL.\n",
    "\n",
    "Кроме этого, известны значения x'(t), t = [0 : 0.1 : 1] – 30 строчек по 11 значений, для 30 вариантов.\n",
    "\n",
    "Замечание. Для решения ДУ по методу Эйлера начальное значение х(0)=х0 определить самостоятельно."
   ]
  },
  {
   "cell_type": "code",
   "execution_count": 1,
   "id": "9170fc16",
   "metadata": {},
   "outputs": [],
   "source": [
    "# подключение библиотек\n",
    "import math\n",
    "import pandas as pd\n",
    "import matplotlib.pyplot as plt\n",
    "import numpy as np\n",
    "from sklearn.metrics import r2_score\n",
    "%matplotlib inline"
   ]
  },
  {
   "cell_type": "code",
   "execution_count": 2,
   "id": "6b66c6ef",
   "metadata": {},
   "outputs": [
    {
     "name": "stdout",
     "output_type": "stream",
     "text": [
      "Значения x'(t) при соответствующих значениях t:\n",
      "       t    x_pr(t)\n",
      "0   0.0   2.731796\n",
      "1   0.1   3.073904\n",
      "2   0.2   3.363661\n",
      "3   0.3   3.680299\n",
      "4   0.4   4.230261\n",
      "5   0.5   4.772622\n",
      "6   0.6   5.586051\n",
      "7   0.7   6.720271\n",
      "8   0.8   8.066742\n",
      "9   0.9   9.844773\n",
      "10  1.0  12.263060\n",
      "\n",
      "\n",
      "Значения параметров для функции f(t):\n",
      " [3 0 2 1 2]\n"
     ]
    }
   ],
   "source": [
    "# считывание данных\n",
    "x_t = pd.read_csv('value1.csv', sep=';')\n",
    "print(\"Значения x'(t) при соответствующих значениях t:\\n\", x_t)\n",
    "\n",
    "param = pd.read_csv('value2.csv', sep=';', skiprows=0).values[0]\n",
    "print(\"\\n\\nЗначения параметров для функции f(t):\\n\", param)"
   ]
  },
  {
   "cell_type": "code",
   "execution_count": 3,
   "id": "1319a328",
   "metadata": {},
   "outputs": [],
   "source": [
    "# функция расчёта значений k(t)\n",
    "def funcK(x_t, param):\n",
    "    k = []\n",
    "    for i in range(len(x_t.values[:])):\n",
    "        k.append(float(x_t['x_pr(t)'][i] / \n",
    "            (param[2]* (x_t['x_pr(t)'][i])**param[0] + param[3]*(x_t['x_pr(t)'][i])**param[1] + param[4])))\n",
    "    return(k)"
   ]
  },
  {
   "cell_type": "code",
   "execution_count": 4,
   "id": "1b684adb",
   "metadata": {},
   "outputs": [
    {
     "data": {
      "text/plain": [
       "[0.06240795666006228,\n",
       " 0.050317689040645756,\n",
       " 0.04251642472087989,\n",
       " 0.03583670883516267,\n",
       " 0.02739771995610202,\n",
       " 0.021652320718597788,\n",
       " 0.01588688725337531,\n",
       " 0.011016794125073427,\n",
       " 0.007661862861588909,\n",
       " 0.005150820485551109,\n",
       " 0.003322149835571193]"
      ]
     },
     "execution_count": 4,
     "metadata": {},
     "output_type": "execute_result"
    }
   ],
   "source": [
    "# полученные значение k(t)\n",
    "K = funcK(x_t, param)\n",
    "K"
   ]
  },
  {
   "cell_type": "code",
   "execution_count": 5,
   "id": "6af0fbe8",
   "metadata": {},
   "outputs": [
    {
     "data": {
      "image/png": "[encoded data removed]",
      "text/plain": [
       "<Figure size 432x288 with 1 Axes>"
      ]
     },
     "metadata": {
      "needs_background": "light"
     },
     "output_type": "display_data"
    }
   ],
   "source": [
    "# график зависимости k от аргумента t\n",
    "plt.plot(x_t['t'][:], K)\n",
    "plt.title('k(t)')\n",
    "plt.xlabel('t')\n",
    "plt.ylabel('k(t)')\n",
    "plt.show()"
   ]
  },
  {
   "cell_type": "markdown",
   "id": "5338a155",
   "metadata": {},
   "source": [
    "В результате, был получен график приближённый к прямой. Найдём коэффициенты a и b."
   ]
  },
  {
   "cell_type": "markdown",
   "id": "461e8b4e",
   "metadata": {},
   "source": [
    "1) Коэффициенты для модели вида k(t) = a1*t + b1;"
   ]
  },
  {
   "cell_type": "code",
   "execution_count": 6,
   "id": "972bd6cb",
   "metadata": {},
   "outputs": [
    {
     "name": "stdout",
     "output_type": "stream",
     "text": [
      "a1 = -0.05835\n",
      "b1 = 0.05492\n"
     ]
    }
   ],
   "source": [
    "a1 = (np.mean(x_t['t'][:] * K) - np.mean(x_t['t'][:])*np.mean(K)) / (np.mean(x_t['t'][:]**2) - np.mean(x_t['t'][:])**2)\n",
    "b1 = np.mean(K) - a1*np.mean(x_t['t'][:])\n",
    "print(\"a1 = %.5f\" % a1)\n",
    "print(\"b1 = %.5f\" % b1)"
   ]
  },
  {
   "cell_type": "code",
   "execution_count": 7,
   "id": "618cc1f1",
   "metadata": {},
   "outputs": [
    {
     "data": {
      "text/plain": [
       "0     0.054916\n",
       "1     0.049081\n",
       "2     0.043246\n",
       "3     0.037412\n",
       "4     0.031577\n",
       "5     0.025742\n",
       "6     0.019908\n",
       "7     0.014073\n",
       "8     0.008239\n",
       "9     0.002404\n",
       "10   -0.003431\n",
       "Name: t, dtype: float64"
      ]
     },
     "execution_count": 7,
     "metadata": {},
     "output_type": "execute_result"
    }
   ],
   "source": [
    "# предсказанные первой моделью значения\n",
    "y_1 = a1*x_t['t'][:] + b1\n",
    "y_1"
   ]
  },
  {
   "cell_type": "code",
   "execution_count": 8,
   "id": "ff6c3c7d",
   "metadata": {},
   "outputs": [
    {
     "name": "stdout",
     "output_type": "stream",
     "text": [
      "R2 = 0.95563\n"
     ]
    }
   ],
   "source": [
    "# Рассчёт коэффиента детерминации для первой модели\n",
    "R2_1 = r2_score(K, y_1)\n",
    "print(\"R2 = %.5f\" % R2_1) "
   ]
  },
  {
   "cell_type": "code",
   "execution_count": 9,
   "id": "074235c6",
   "metadata": {},
   "outputs": [
    {
     "data": {
      "image/png": "[encoded data removed]",
      "text/plain": [
       "<Figure size 432x288 with 1 Axes>"
      ]
     },
     "metadata": {
      "needs_background": "light"
     },
     "output_type": "display_data"
    }
   ],
   "source": [
    "# сравнение теоретической и эмпирической функций первой модели\n",
    "plt.plot(x_t['t'][:], K)\n",
    "plt.plot(x_t['t'][:], y_1)\n",
    "plt.title('k(t)')\n",
    "plt.xlabel('t')\n",
    "plt.ylabel('k(t)')\n",
    "plt.show()"
   ]
  },
  {
   "cell_type": "markdown",
   "id": "aea71cd4",
   "metadata": {},
   "source": [
    "2) Коэффициенты для модели вида k(t) = b2* e^(a2* t);"
   ]
  },
  {
   "cell_type": "code",
   "execution_count": 10,
   "id": "85a25123",
   "metadata": {},
   "outputs": [
    {
     "name": "stdout",
     "output_type": "stream",
     "text": [
      "a2 = -2.89338\n",
      "b2 = 0.07658\n"
     ]
    }
   ],
   "source": [
    "a2 = (np.mean(x_t['t'][:] * list(map(math.log, K))) - np.mean(x_t['t'][:])*np.mean(list(map(math.log, K)))) \\\n",
    "        / (np.mean(x_t['t'][:]**2) - np.mean(x_t['t'][:])**2)\n",
    "b2 = math.exp(np.mean(list(map(math.log, K))) - a2*np.mean(x_t['t'][:]))\n",
    "print(\"a2 = %.5f\" % a2)\n",
    "print(\"b2 = %.5f\" % b2)"
   ]
  },
  {
   "cell_type": "code",
   "execution_count": 11,
   "id": "390a26d7",
   "metadata": {},
   "outputs": [
    {
     "data": {
      "text/plain": [
       "0     0.076575\n",
       "1     0.057336\n",
       "2     0.042931\n",
       "3     0.032145\n",
       "4     0.024069\n",
       "5     0.018022\n",
       "6     0.013494\n",
       "7     0.010104\n",
       "8     0.007565\n",
       "9     0.005665\n",
       "10    0.004241\n",
       "Name: t, dtype: float64"
      ]
     },
     "execution_count": 11,
     "metadata": {},
     "output_type": "execute_result"
    }
   ],
   "source": [
    "# предсказанные второй моделью значения\n",
    "y_2 = b2*np.exp(a2*x_t['t'][:])\n",
    "y_2"
   ]
  },
  {
   "cell_type": "code",
   "execution_count": 12,
   "id": "3e166e7c",
   "metadata": {},
   "outputs": [
    {
     "name": "stdout",
     "output_type": "stream",
     "text": [
      "R2 = 0.92454\n"
     ]
    }
   ],
   "source": [
    "# Рассчёт коэффиента детерминации для второй модели\n",
    "\n",
    "R2_2 = r2_score(K, y_2)\n",
    "print(\"R2 = %.5f\" % R2_2)"
   ]
  },
  {
   "cell_type": "code",
   "execution_count": 13,
   "id": "98b11771",
   "metadata": {},
   "outputs": [
    {
     "data": {
      "image/png": "[encoded data removed]",
      "text/plain": [
       "<Figure size 432x288 with 1 Axes>"
      ]
     },
     "metadata": {
      "needs_background": "light"
     },
     "output_type": "display_data"
    }
   ],
   "source": [
    "# сравнение теоретической и эмпирической функции второй модели\n",
    "plt.plot(x_t['t'][:], K)\n",
    "plt.plot(x_t['t'][:], y_2)\n",
    "plt.title('k(t)')\n",
    "plt.xlabel('t')\n",
    "plt.ylabel('k(t)')\n",
    "plt.show()"
   ]
  },
  {
   "cell_type": "markdown",
   "id": "0d2317ab",
   "metadata": {},
   "source": [
    "В результате, более точной является линейная модель k(t) = a1*t + b1 с R2 = 0.95563."
   ]
  },
  {
   "cell_type": "markdown",
   "id": "2f9cda73",
   "metadata": {},
   "source": [
    "### Часть 2. Задание:\n",
    "Построить модель для x(t). Способы получения x(t): \\\n",
    "-- аналитически; \\\n",
    "-- численным методом (метод Эйлера)."
   ]
  },
  {
   "cell_type": "markdown",
   "id": "fa6407de",
   "metadata": {},
   "source": [
    "#### Аналитическое нахождение значения x(t)\n",
    "Найдём интеграл x'(t) = 2a*t^4 + 3at + 2b*t^3 + 3b."
   ]
  },
  {
   "cell_type": "code",
   "execution_count": 19,
   "id": "be562b7c",
   "metadata": {},
   "outputs": [
    {
     "data": {
      "text/plain": [
       "[0.0,\n",
       " 0.015602,\n",
       " 0.029485,\n",
       " 0.041713,\n",
       " 0.05236,\n",
       " 0.06148,\n",
       " 0.069085,\n",
       " 0.075108,\n",
       " 0.079384,\n",
       " 0.081615,\n",
       " 0.081347]"
      ]
     },
     "execution_count": 19,
     "metadata": {},
     "output_type": "execute_result"
    }
   ],
   "source": [
    "a, b = a1, b1\n",
    "x_analit = []\n",
    "for t in x_t['t']:\n",
    "    x_analit.append( round( (2*a*t**5)/5 + (3*a*t**2)/2 + (b*t**4)/2 + 3*b*t, 6) )\n",
    "x_analit"
   ]
  },
  {
   "cell_type": "markdown",
   "id": "87e30423",
   "metadata": {},
   "source": [
    "#### Поиск x(t) численным методом (метод Эйлера)\n",
    "Формула Эйлера для численного решения обыкновенного дифференциального уравнения имеет вид: x_(i+1) = x_i + h*f(t)"
   ]
  },
  {
   "cell_type": "code",
   "execution_count": 21,
   "id": "84779815",
   "metadata": {},
   "outputs": [],
   "source": [
    "# функция x'(t)\n",
    "def function(t): \n",
    "    return 2*a*(t**4) + 3*a*t + 2*b*(t**3) + 3*b"
   ]
  },
  {
   "cell_type": "code",
   "execution_count": 26,
   "id": "0047fe10",
   "metadata": {},
   "outputs": [],
   "source": [
    "# функция для задания массива значений t при заданном шаге\n",
    "def func_t(h):\n",
    "    t = []\n",
    "    i = 0.0\n",
    "    while(i <= 1): \n",
    "        t.append(i)\n",
    "        i += h\n",
    "    if t[len(t)-1] < 0.9999:\n",
    "        t.append(1)\n",
    "    return t"
   ]
  },
  {
   "cell_type": "code",
   "execution_count": 56,
   "id": "a594bf2d",
   "metadata": {},
   "outputs": [],
   "source": [
    "# функция для оценки точности расчитанных значений\n",
    "def accuracy(x1, x2):\n",
    "    if((2*len(x1)) > len(x2)):\n",
    "        size = len(x1) - 1\n",
    "    else:\n",
    "        size = len(x1)\n",
    "    \n",
    "    return max(x1[:size] - x2[1::2])"
   ]
  },
  {
   "cell_type": "code",
   "execution_count": 62,
   "id": "c0a735ff",
   "metadata": {},
   "outputs": [],
   "source": [
    "# метод Эйлера-Коши численного решения ОДУ\n",
    "def Eiler():\n",
    "    x1, x2 = [], []\n",
    "    h = 0.1\n",
    "    eps = 0.01\n",
    "    \n",
    "    x1.append(x_analit[0])\n",
    "    for i in range(10):\n",
    "        x1.append(x1[i] + h*function(x_t['t'][i]))\n",
    "    x1 = np.array(x1)\n",
    "    \n",
    "    while(1):\n",
    "        h /= 2\n",
    "        t2 = func_t(h)\n",
    "        x2.append(x_analit[0])\n",
    "        \n",
    "        for i in range(0, len(t2)-1):\n",
    "            x2.append(x2[i] + h*function(t2[i]))\n",
    "        x2 = np.array(x2)\n",
    "        \n",
    "        # оценка точности расчитанных значений\n",
    "        accuracy_ = accuracy(x1, x2)\n",
    "        if accuracy_ < eps:\n",
    "            return t2, x2\n",
    "        \n",
    "        x1, t1 = x2, np.array(t2)\n",
    "        x2, t2 = [], []"
   ]
  },
  {
   "cell_type": "code",
   "execution_count": 64,
   "id": "e97b14cc",
   "metadata": {},
   "outputs": [],
   "source": [
    "# векторы значений x(t) и t\n",
    "t_num_met , x_num_met = Eiler()"
   ]
  },
  {
   "cell_type": "code",
   "execution_count": 65,
   "id": "c58c1466",
   "metadata": {},
   "outputs": [],
   "source": [
    "# уравнивание размера выборок\n",
    "x_analit = []\n",
    "for i in range(len(x_num_met)):\n",
    "    x_analit.append( (2*a*t_num_met[i]**5)/5 + (3*a*t_num_met[i]**2)/2 + (b*t_num_met[i]**4)/2 + 3*b*t_num_met[i] )"
   ]
  },
  {
   "cell_type": "code",
   "execution_count": 70,
   "id": "a8575d60",
   "metadata": {},
   "outputs": [
    {
     "data": {
      "text/plain": [
       "0.990928"
      ]
     },
     "execution_count": 70,
     "metadata": {},
     "output_type": "execute_result"
    }
   ],
   "source": [
    "# рассчёт коэффициента детерминации\n",
    "R2_x = round( r2_score(x_analit, x_num_met), 6)\n",
    "R2_x"
   ]
  },
  {
   "cell_type": "code",
   "execution_count": 72,
   "id": "a53d59c5",
   "metadata": {},
   "outputs": [
    {
     "data": {
      "image/png": "[encoded data removed]",
      "text/plain": [
       "<Figure size 432x288 with 1 Axes>"
      ]
     },
     "metadata": {
      "needs_background": "light"
     },
     "output_type": "display_data"
    }
   ],
   "source": [
    "# графическое сравнение значений функции x(t), рассчитанных аналитически и численных методом Эйлера\n",
    "plt.plot(t_num_met, x_analit)\n",
    "plt.plot(t_num_met, x_num_met)\n",
    "plt.title('x(t)')\n",
    "plt.xlabel('t')\n",
    "plt.ylabel('x(t)')\n",
    "plt.show()"
   ]
  },
  {
   "cell_type": "markdown",
   "id": "ac8cb10d",
   "metadata": {},
   "source": [
    "### Часть 3. Задание:\n",
    "Произвести проверку адекватности полученной модели, используя критерий Хи-квадрат. \\\n",
    "\\\n",
    "H0 -- совокупность значений  не даёт оснований отказываться от модели. \\\n",
    "H1 -- модель не отвечает заданным требованиям."
   ]
  },
  {
   "cell_type": "markdown",
   "id": "9441d7cc",
   "metadata": {},
   "source": [
    "#### Критерий Хи-квадрат"
   ]
  },
  {
   "cell_type": "markdown",
   "id": "ef126844",
   "metadata": {},
   "source": [
    "![title](Хи.png)"
   ]
  },
  {
   "cell_type": "code",
   "execution_count": 91,
   "id": "c25b1759",
   "metadata": {},
   "outputs": [
    {
     "name": "stdout",
     "output_type": "stream",
     "text": [
      "Количество выполнившихся случаев: 21.0\n",
      "Количество невыполнившихся случаев: 0.0\n",
      "\n",
      " [0.         0.00021863 0.00043574 0.00064983 0.00085987 0.00106527\n",
      " 0.00126585 0.00146189 0.00165412 0.00184366 0.00203212 0.00222151\n",
      " 0.00241431 0.0026134  0.00282213 0.00304427 0.00328404 0.00354609\n",
      " 0.0038355  0.00415779 0.00451894]\n"
     ]
    }
   ],
   "source": [
    "n = len(x_analit)\n",
    "eps = 0.01\n",
    "alfa = 0.05\n",
    "v1, v2 = 0., 0.\n",
    "\n",
    "W_real = x_analit\n",
    "W_model = x_num_met\n",
    "\n",
    "E = abs(W_real - W_model)\n",
    "for e in E:\n",
    "    if e < eps:\n",
    "        v1+=1\n",
    "    else: \n",
    "        v2+=1\n",
    "        \n",
    "print(\"Количество выполнившихся случаев:\", v1)\n",
    "print(\"Количество невыполнившихся случаев:\", v2)\n",
    "print(\"\\n\",E)"
   ]
  },
  {
   "cell_type": "code",
   "execution_count": 97,
   "id": "fc05f841",
   "metadata": {},
   "outputs": [
    {
     "name": "stdout",
     "output_type": "stream",
     "text": [
      "Модель является адекватной\n"
     ]
    }
   ],
   "source": [
    "# так как v <= 100\n",
    "hi2 = 31.41 # критическое значение\n",
    "hi2_obs = np.sum((n - v1)**2 / v1) # наблюдаемое значение\n",
    "\n",
    "if hi2 > hi2_obs:\n",
    "    print(\"Модель является адекватной\")\n",
    "else: \n",
    "    print(\"Модель не является адекватной\")"
   ]
  },
  {
   "cell_type": "markdown",
   "id": "afcbc493",
   "metadata": {},
   "source": [
    "#### Критерий Смирнова-Колмогорова"
   ]
  },
  {
   "cell_type": "markdown",
   "id": "4162fbf1",
   "metadata": {},
   "source": [
    "![title](КС.png)"
   ]
  },
  {
   "cell_type": "code",
   "execution_count": 99,
   "id": "cbdff2a0",
   "metadata": {},
   "outputs": [
    {
     "name": "stdout",
     "output_type": "stream",
     "text": [
      "Критическое значение критерия Колмогорова-Смирнова: 0.226\n",
      "lambda: 0.020708\n",
      "\n",
      "Модель является адекватной\n"
     ]
    }
   ],
   "source": [
    "n = len(x_analit)\n",
    "S = max(E)\n",
    "lambda_ = round(S*(n**(1/2)), 6)\n",
    "alfa = 0.05\n",
    "\n",
    "kc = 0.226\n",
    "print(\"Критическое значение критерия Колмогорова-Смирнова:\", kc)\n",
    "print(\"lambda:\", lambda_)\n",
    "print(\"\\nМодель является адекватной\")\n",
    "\n",
    "# Чем ближе к нулю значение lambda, тем меньше модель отличается от реальной"
   ]
  }
 ],
 "metadata": {
  "kernelspec": {
   "display_name": "Python 3",
   "language": "python",
   "name": "python3"
  },
  "language_info": {
   "codemirror_mode": {
    "name": "ipython",
    "version": 3
   },
   "file_extension": ".py",
   "mimetype": "text/x-python",
   "name": "python",
   "nbconvert_exporter": "python",
   "pygments_lexer": "ipython3",
   "version": "3.8.8"
  }
 },
 "nbformat": 4,
 "nbformat_minor": 5
}
