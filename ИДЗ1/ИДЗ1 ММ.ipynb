{
 "cells": [
  {
   "cell_type": "markdown",
   "id": "9a7a951c",
   "metadata": {},
   "source": [
    "## ИДЗ1"
   ]
  },
  {
   "cell_type": "markdown",
   "id": "05f2c41c",
   "metadata": {},
   "source": [
    "### Задание: \n",
    "Модель задана дифференциальным уравнением, которое имеет вид х'(t) = k(t)*f(t). Функция f известна, функцию k нужно найти. Предполагается, что k имеет вид k(t) = а*е^(b*t) или k(t) = a*b^t.\n",
    "\n",
    "Функция f(t) имеет вид: f(t) = p * t^m + q * t^n + r, параметры для 30 вариантов приведены в документе EXCEL.\n",
    "\n",
    "Кроме этого, известны значения x'(t), t = [0 : 0.1 : 1] – 30 строчек по 11 значений, для 30 вариантов.\n",
    "\n",
    "Замечание. Для решения ДУ по методу Эйлера начальное значение х(0)=х0 определить самостоятельно."
   ]
  },
  {
   "cell_type": "code",
   "execution_count": 1,
   "id": "9170fc16",
   "metadata": {},
   "outputs": [],
   "source": [
    "# подключение библиотек\n",
    "import math\n",
    "import pandas as pd\n",
    "import matplotlib.pyplot as plt\n",
    "import numpy as np\n",
    "from sklearn.metrics import r2_score\n",
    "%matplotlib inline"
   ]
  },
  {
   "cell_type": "code",
   "execution_count": 6,
   "id": "6b66c6ef",
   "metadata": {},
   "outputs": [
    {
     "name": "stdout",
     "output_type": "stream",
     "text": [
      "Значения x'(t) при соответствующих значениях t:\n",
      "       t    x_pr(t)\n",
      "0   0.0   2.731796\n",
      "1   0.1   3.073904\n",
      "2   0.2   3.363661\n",
      "3   0.3   3.680299\n",
      "4   0.4   4.230261\n",
      "5   0.5   4.772622\n",
      "6   0.6   5.586051\n",
      "7   0.7   6.720271\n",
      "8   0.8   8.066742\n",
      "9   0.9   9.844773\n",
      "10  1.0  12.263060\n",
      "\n",
      "\n",
      "Значения параметров для функции f(t):\n",
      " [3 0 2 1 2]\n"
     ]
    }
   ],
   "source": [
    "# считывание данных\n",
    "x_t = pd.read_csv('value1.csv', sep=';')\n",
    "print(\"Значения x'(t) при соответствующих значениях t:\\n\", x_t)\n",
    "\n",
    "param = pd.read_csv('value2.csv', sep=';', skiprows=0).values[0]\n",
    "print(\"\\n\\nЗначения параметров для функции f(t):\\n\", param)"
   ]
  },
  {
   "cell_type": "code",
   "execution_count": 7,
   "id": "1319a328",
   "metadata": {},
   "outputs": [],
   "source": [
    "# функция расчёта значений k(t)\n",
    "def funcK(x_t, param):\n",
    "    k = []\n",
    "    for i in range(len(x_t.values[:])):\n",
    "        k.append(float(x_t['x_pr(t)'][i] / \n",
    "            (param[2]* (x_t['x_pr(t)'][i])**param[0] + param[3]*(x_t['x_pr(t)'][i])**param[1] + param[4])))\n",
    "    return(k)"
   ]
  },
  {
   "cell_type": "code",
   "execution_count": 8,
   "id": "1b684adb",
   "metadata": {},
   "outputs": [
    {
     "data": {
      "text/plain": [
       "[0.06240795666006228,\n",
       " 0.050317689040645756,\n",
       " 0.04251642472087989,\n",
       " 0.03583670883516267,\n",
       " 0.02739771995610202,\n",
       " 0.021652320718597788,\n",
       " 0.01588688725337531,\n",
       " 0.011016794125073427,\n",
       " 0.007661862861588909,\n",
       " 0.005150820485551109,\n",
       " 0.003322149835571193]"
      ]
     },
     "execution_count": 8,
     "metadata": {},
     "output_type": "execute_result"
    }
   ],
   "source": [
    "# полученные значение k(t)\n",
    "K = funcK(x_t, param)\n",
    "K"
   ]
  },
  {
   "cell_type": "code",
   "execution_count": 9,
   "id": "6af0fbe8",
   "metadata": {},
   "outputs": [
    {
     "data": {
      "image/png": "[encoded data removed]",
      "text/plain": [
       "<Figure size 432x288 with 1 Axes>"
      ]
     },
     "metadata": {
      "needs_background": "light"
     },
     "output_type": "display_data"
    }
   ],
   "source": [
    "# график зависимости k от аргумента t\n",
    "plt.plot(x_t['t'][:], K)\n",
    "plt.title('k(t)')\n",
    "plt.xlabel('t')\n",
    "plt.ylabel('k(t)')\n",
    "plt.show()"
   ]
  },
  {
   "cell_type": "markdown",
   "id": "5338a155",
   "metadata": {},
   "source": [
    "В результате, был получен график приближённый к прямой. Найдём коэффициенты a и b."
   ]
  },
  {
   "cell_type": "markdown",
   "id": "461e8b4e",
   "metadata": {},
   "source": [
    "1) Коэффициенты для модели вида k(t) = a1*t + b1;"
   ]
  },
  {
   "cell_type": "code",
   "execution_count": 10,
   "id": "972bd6cb",
   "metadata": {},
   "outputs": [
    {
     "name": "stdout",
     "output_type": "stream",
     "text": [
      "a1 = -0.05835\n",
      "b1 = 0.05492\n"
     ]
    }
   ],
   "source": [
    "a1 = (np.mean(x_t['t'][:] * K) - np.mean(x_t['t'][:])*np.mean(K)) / (np.mean(x_t['t'][:]**2) - np.mean(x_t['t'][:])**2)\n",
    "b1 = np.mean(K) - a1*np.mean(x_t['t'][:])\n",
    "print(\"a1 = %.5f\" % a1)\n",
    "print(\"b1 = %.5f\" % b1)"
   ]
  },
  {
   "cell_type": "code",
   "execution_count": 11,
   "id": "618cc1f1",
   "metadata": {},
   "outputs": [
    {
     "data": {
      "text/plain": [
       "0     0.054916\n",
       "1     0.049081\n",
       "2     0.043246\n",
       "3     0.037412\n",
       "4     0.031577\n",
       "5     0.025742\n",
       "6     0.019908\n",
       "7     0.014073\n",
       "8     0.008239\n",
       "9     0.002404\n",
       "10   -0.003431\n",
       "Name: t, dtype: float64"
      ]
     },
     "execution_count": 11,
     "metadata": {},
     "output_type": "execute_result"
    }
   ],
   "source": [
    "# предсказанные первой моделью значения\n",
    "y_1 = a1*x_t['t'][:] + b1\n",
    "y_1"
   ]
  },
  {
   "cell_type": "code",
   "execution_count": 27,
   "id": "ff6c3c7d",
   "metadata": {},
   "outputs": [
    {
     "name": "stdout",
     "output_type": "stream",
     "text": [
      "R2 = 0.95563\n"
     ]
    }
   ],
   "source": [
    "# Рассчёт коэффиента детерминации для первой модели\n",
    "R2_1 = r2_score(K, y_1)\n",
    "print(\"R2 = %.5f\" % R2_1) "
   ]
  },
  {
   "cell_type": "code",
   "execution_count": 28,
   "id": "074235c6",
   "metadata": {},
   "outputs": [
    {
     "data": {
      "image/png": "[encoded data removed]",
      "text/plain": [
       "<Figure size 432x288 with 1 Axes>"
      ]
     },
     "metadata": {
      "needs_background": "light"
     },
     "output_type": "display_data"
    }
   ],
   "source": [
    "# сравнение теоретической и эмпирической функций первой модели\n",
    "plt.plot(x_t['t'][:], K)\n",
    "plt.plot(x_t['t'][:], y_1)\n",
    "plt.title('k(t)')\n",
    "plt.xlabel('t')\n",
    "plt.ylabel('k(t)')\n",
    "plt.show()"
   ]
  },
  {
   "cell_type": "markdown",
   "id": "aea71cd4",
   "metadata": {},
   "source": [
    "2) Коэффициенты для модели вида k(t) = b2* e^(a2* t);"
   ]
  },
  {
   "cell_type": "code",
   "execution_count": 29,
   "id": "85a25123",
   "metadata": {},
   "outputs": [
    {
     "name": "stdout",
     "output_type": "stream",
     "text": [
      "a2 = -2.89338\n",
      "b2 = 0.07658\n"
     ]
    }
   ],
   "source": [
    "a2 = (np.mean(x_t['t'][:] * list(map(math.log, K))) - np.mean(x_t['t'][:])*np.mean(list(map(math.log, K)))) \\\n",
    "        / (np.mean(x_t['t'][:]**2) - np.mean(x_t['t'][:])**2)\n",
    "b2 = math.exp(np.mean(list(map(math.log, K))) - a2*np.mean(x_t['t'][:]))\n",
    "print(\"a2 = %.5f\" % a2)\n",
    "print(\"b2 = %.5f\" % b2)"
   ]
  },
  {
   "cell_type": "code",
   "execution_count": 30,
   "id": "390a26d7",
   "metadata": {},
   "outputs": [
    {
     "data": {
      "text/plain": [
       "0     0.076575\n",
       "1     0.057336\n",
       "2     0.042931\n",
       "3     0.032145\n",
       "4     0.024069\n",
       "5     0.018022\n",
       "6     0.013494\n",
       "7     0.010104\n",
       "8     0.007565\n",
       "9     0.005665\n",
       "10    0.004241\n",
       "Name: t, dtype: float64"
      ]
     },
     "execution_count": 30,
     "metadata": {},
     "output_type": "execute_result"
    }
   ],
   "source": [
    "# предсказанные второй моделью значения\n",
    "y_2 = b2*np.exp(a2*x_t['t'][:])\n",
    "y_2"
   ]
  },
  {
   "cell_type": "code",
   "execution_count": 25,
   "id": "3e166e7c",
   "metadata": {},
   "outputs": [
    {
     "name": "stdout",
     "output_type": "stream",
     "text": [
      "R2 = 0.92454\n"
     ]
    }
   ],
   "source": [
    "# Рассчёт коэффиента детерминации для второй модели\n",
    "\n",
    "R2_2 = r2_score(K, y_2)\n",
    "print(\"R2 = %.5f\" % R2_2)"
   ]
  },
  {
   "cell_type": "code",
   "execution_count": 31,
   "id": "98b11771",
   "metadata": {},
   "outputs": [
    {
     "data": {
      "image/png": "[encoded data removed]",
      "text/plain": [
       "<Figure size 432x288 with 1 Axes>"
      ]
     },
     "metadata": {
      "needs_background": "light"
     },
     "output_type": "display_data"
    }
   ],
   "source": [
    "# сравнение теоретической и эмпирической функции второй модели\n",
    "plt.plot(x_t['t'][:], K)\n",
    "plt.plot(x_t['t'][:], y_2)\n",
    "plt.title('k(t)')\n",
    "plt.xlabel('t')\n",
    "plt.ylabel('k(t)')\n",
    "plt.show()"
   ]
  },
  {
   "cell_type": "markdown",
   "id": "0d2317ab",
   "metadata": {},
   "source": [
    "В результате, более точной является линейная модель k(t) = a1*t + b1 с R2 = 0.95563."
   ]
  }
 ],
 "metadata": {
  "kernelspec": {
   "display_name": "Python 3",
   "language": "python",
   "name": "python3"
  },
  "language_info": {
   "codemirror_mode": {
    "name": "ipython",
    "version": 3
   },
   "file_extension": ".py",
   "mimetype": "text/x-python",
   "name": "python",
   "nbconvert_exporter": "python",
   "pygments_lexer": "ipython3",
   "version": "3.8.8"
  }
 },
 "nbformat": 4,
 "nbformat_minor": 5
}
